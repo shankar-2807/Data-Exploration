{
 "cells": [
  {
   "cell_type": "code",
   "execution_count": 1,
   "id": "2d781a8d-1a69-4e45-b66c-487af249066c",
   "metadata": {},
   "outputs": [],
   "source": [
    "import numpy as np\n",
    "import pandas as pd\n",
    "import matplotlib.pyplot as plt"
   ]
  },
  {
   "cell_type": "code",
   "execution_count": 2,
   "id": "0ddf81ef-4e7e-4887-a428-fa36b3891142",
   "metadata": {},
   "outputs": [],
   "source": [
    "\n",
    "s1 = pd.Series([45,80,60,90,55,58,60,70,90,45,50,20,50,90,77,-10,150,0])"
   ]
  },
  {
   "cell_type": "code",
   "execution_count": 3,
   "id": "3c20affc-0b11-4f50-afb8-013a0d395145",
   "metadata": {},
   "outputs": [
    {
     "data": {
      "text/plain": [
       "np.float64(60.0)"
      ]
     },
     "execution_count": 3,
     "metadata": {},
     "output_type": "execute_result"
    }
   ],
   "source": [
    "s1.mean()"
   ]
  },
  {
   "cell_type": "code",
   "execution_count": 4,
   "id": "609fe669-dcba-4296-b159-66bce6a80c42",
   "metadata": {},
   "outputs": [
    {
     "data": {
      "text/plain": [
       "np.float64(1315.764705882353)"
      ]
     },
     "execution_count": 4,
     "metadata": {},
     "output_type": "execute_result"
    }
   ],
   "source": [
    "s1.var()"
   ]
  },
  {
   "cell_type": "code",
   "execution_count": 5,
   "id": "ac499636-51dc-409f-9941-f666ff8eee51",
   "metadata": {},
   "outputs": [
    {
     "data": {
      "text/plain": [
       "np.float64(36.27347110330569)"
      ]
     },
     "execution_count": 5,
     "metadata": {},
     "output_type": "execute_result"
    }
   ],
   "source": [
    "s1.std()"
   ]
  },
  {
   "cell_type": "code",
   "execution_count": 6,
   "id": "d04b7d7c-555a-4357-8b50-1d5de58905e2",
   "metadata": {},
   "outputs": [
    {
     "data": {
      "text/plain": [
       "np.float64(59.0)"
      ]
     },
     "execution_count": 6,
     "metadata": {},
     "output_type": "execute_result"
    }
   ],
   "source": [
    "s1.median()"
   ]
  },
  {
   "cell_type": "code",
   "execution_count": 7,
   "id": "202d5e1f-b6f5-4398-9871-a8563b66a6e2",
   "metadata": {},
   "outputs": [
    {
     "data": {
      "text/plain": [
       "0    90\n",
       "dtype: int64"
      ]
     },
     "execution_count": 7,
     "metadata": {},
     "output_type": "execute_result"
    }
   ],
   "source": [
    "s1.mode()"
   ]
  },
  {
   "cell_type": "code",
   "execution_count": 8,
   "id": "d9dd5866-858e-45a2-bfc0-aee5246ddb6b",
   "metadata": {},
   "outputs": [
    {
     "data": {
      "text/plain": [
       "np.float64(45.0)"
      ]
     },
     "execution_count": 8,
     "metadata": {},
     "output_type": "execute_result"
    }
   ],
   "source": [
    "s2 = pd.Series([23,56,78,90,12,34])\n",
    "s2.median()"
   ]
  },
  {
   "cell_type": "code",
   "execution_count": 9,
   "id": "0f8d6172-0c1e-4c65-90be-9b64fea5bb64",
   "metadata": {},
   "outputs": [
    {
     "data": {
      "text/plain": [
       "0      45\n",
       "1      80\n",
       "2      60\n",
       "3      90\n",
       "4      55\n",
       "5      58\n",
       "6      60\n",
       "7      70\n",
       "8      90\n",
       "9      45\n",
       "10     50\n",
       "11     20\n",
       "12     50\n",
       "13     90\n",
       "14     77\n",
       "15    -10\n",
       "16    150\n",
       "17      0\n",
       "dtype: int64"
      ]
     },
     "execution_count": 9,
     "metadata": {},
     "output_type": "execute_result"
    }
   ],
   "source": [
    "s1"
   ]
  },
  {
   "cell_type": "code",
   "execution_count": 10,
   "id": "1e0a35ce-8652-4bba-a903-6f34d25f630f",
   "metadata": {},
   "outputs": [],
   "source": [
    "import seaborn as sns"
   ]
  },
  {
   "cell_type": "code",
   "execution_count": 11,
   "id": "7ea12a95-d5f1-466a-8c2b-20fb53155f70",
   "metadata": {},
   "outputs": [
    {
     "data": {
      "text/plain": [
       "<Axes: ylabel='Count'>"
      ]
     },
     "execution_count": 11,
     "metadata": {},
     "output_type": "execute_result"
    },
    {
     "data": {
      "image/png": "[encoded data removed]",
      "text/plain": [
       "<Figure size 640x480 with 1 Axes>"
      ]
     },
     "metadata": {},
     "output_type": "display_data"
    }
   ],
   "source": [
    "sns.histplot(s1,kde=True)"
   ]
  },
  {
   "cell_type": "code",
   "execution_count": 12,
   "id": "8aecd6cf-b4fe-4f24-ba19-7f4bc6a72dc5",
   "metadata": {},
   "outputs": [
    {
     "data": {
      "text/plain": [
       "{'whiskers': [<matplotlib.lines.Line2D at 0x1bab9c356a0>,\n",
       "  <matplotlib.lines.Line2D at 0x1bab9c35940>],\n",
       " 'caps': [<matplotlib.lines.Line2D at 0x1bab9c35bb0>,\n",
       "  <matplotlib.lines.Line2D at 0x1bab9c35eb0>],\n",
       " 'boxes': [<matplotlib.lines.Line2D at 0x1bab9c35430>],\n",
       " 'medians': [<matplotlib.lines.Line2D at 0x1bab9c36180>],\n",
       " 'fliers': [<matplotlib.lines.Line2D at 0x1bab9c36480>],\n",
       " 'means': []}"
      ]
     },
     "execution_count": 12,
     "metadata": {},
     "output_type": "execute_result"
    },
    {
     "data": {
      "image/png": "[encoded data removed]",
      "text/plain": [
       "<Figure size 640x480 with 1 Axes>"
      ]
     },
     "metadata": {},
     "output_type": "display_data"
    }
   ],
   "source": [
    "plt.boxplot(s1)"
   ]
  },
  {
   "cell_type": "code",
   "execution_count": 74,
   "id": "aab41e79-4c15-493d-8316-0817534e6aa8",
   "metadata": {},
   "outputs": [],
   "source": [
    "q1 = s1.quantile(0.25)"
   ]
  },
  {
   "cell_type": "code",
   "execution_count": 75,
   "id": "1839f1d5-f5c2-4b1e-8354-fbaa08f90e90",
   "metadata": {},
   "outputs": [],
   "source": [
    "q3 = s1.quantile(0.75)"
   ]
  },
  {
   "cell_type": "code",
   "execution_count": 76,
   "id": "71eef887-c651-4d2e-86a1-b32a3b4c8516",
   "metadata": {},
   "outputs": [],
   "source": [
    "IQR = q3 - q1"
   ]
  },
  {
   "cell_type": "code",
   "execution_count": 77,
   "id": "c22437dd-afe2-4521-b7ff-75cbb966088a",
   "metadata": {},
   "outputs": [
    {
     "data": {
      "text/plain": [
       "np.float64(33.0)"
      ]
     },
     "execution_count": 77,
     "metadata": {},
     "output_type": "execute_result"
    }
   ],
   "source": [
    "IQR"
   ]
  },
  {
   "cell_type": "code",
   "execution_count": 78,
   "id": "50e4bbc1-b302-4090-9d92-d86e95535596",
   "metadata": {},
   "outputs": [],
   "source": [
    "lower = q1- (1.5*IQR)"
   ]
  },
  {
   "cell_type": "code",
   "execution_count": 79,
   "id": "81d5fd43-3f3c-4209-9f01-8e4e944c9972",
   "metadata": {},
   "outputs": [
    {
     "data": {
      "text/plain": [
       "np.float64(-3.25)"
      ]
     },
     "execution_count": 79,
     "metadata": {},
     "output_type": "execute_result"
    }
   ],
   "source": [
    "lower"
   ]
  },
  {
   "cell_type": "code",
   "execution_count": 80,
   "id": "252ee54d-f654-430e-ba78-0845363ef3a8",
   "metadata": {},
   "outputs": [
    {
     "data": {
      "text/plain": [
       "15   -10\n",
       "dtype: int64"
      ]
     },
     "execution_count": 80,
     "metadata": {},
     "output_type": "execute_result"
    }
   ],
   "source": [
    "s1[s1<lower]"
   ]
  },
  {
   "cell_type": "code",
   "execution_count": 81,
   "id": "4f9b1ae4-4854-4577-936b-de9779aa3e62",
   "metadata": {},
   "outputs": [
    {
     "data": {
      "text/plain": [
       "np.float64(128.75)"
      ]
     },
     "execution_count": 81,
     "metadata": {},
     "output_type": "execute_result"
    }
   ],
   "source": [
    "upper = q3+(1.5*IQR)\n",
    "upper"
   ]
  },
  {
   "cell_type": "code",
   "execution_count": 82,
   "id": "55db0bf5-efee-4d37-bfbd-b49d1601d3bb",
   "metadata": {},
   "outputs": [
    {
     "data": {
      "text/plain": [
       "16    150\n",
       "dtype: int64"
      ]
     },
     "execution_count": 82,
     "metadata": {},
     "output_type": "execute_result"
    }
   ],
   "source": [
    "s1[s1>upper]"
   ]
  },
  {
   "cell_type": "code",
   "execution_count": 40,
   "id": "db0465a8-d62e-4ed7-9f1f-5d853d2d0b0e",
   "metadata": {},
   "outputs": [],
   "source": [
    "dataset = pd.read_csv(\"C:/Users/ADMIN/Desktop/FBS/Data Science/Data sets/cars93.csv\")"
   ]
  },
  {
   "cell_type": "code",
   "execution_count": 41,
   "id": "ac606dd0-353f-43e2-b9c0-db12e9501446",
   "metadata": {},
   "outputs": [
    {
     "data": {
      "text/html": [
       "<div>\n",
       "<style scoped>\n",
       "    .dataframe tbody tr th:only-of-type {\n",
       "        vertical-align: middle;\n",
       "    }\n",
       "\n",
       "    .dataframe tbody tr th {\n",
       "        vertical-align: top;\n",
       "    }\n",
       "\n",
       "    .dataframe thead th {\n",
       "        text-align: right;\n",
       "    }\n",
       "</style>\n",
       "<table border=\"1\" class=\"dataframe\">\n",
       "  <thead>\n",
       "    <tr style=\"text-align: right;\">\n",
       "      <th></th>\n",
       "      <th>Manufacturer</th>\n",
       "      <th>Model</th>\n",
       "      <th>Type</th>\n",
       "      <th>Price</th>\n",
       "      <th>MPG.city</th>\n",
       "      <th>AirBags</th>\n",
       "      <th>Horsepower</th>\n",
       "      <th>Passengers</th>\n",
       "      <th>Rear.seat.room</th>\n",
       "      <th>Luggage.room</th>\n",
       "    </tr>\n",
       "  </thead>\n",
       "  <tbody>\n",
       "    <tr>\n",
       "      <th>0</th>\n",
       "      <td>Acura</td>\n",
       "      <td>Integra</td>\n",
       "      <td>Small</td>\n",
       "      <td>15.9</td>\n",
       "      <td>25</td>\n",
       "      <td>Driver only</td>\n",
       "      <td>140</td>\n",
       "      <td>5</td>\n",
       "      <td>26.5</td>\n",
       "      <td>11.0</td>\n",
       "    </tr>\n",
       "    <tr>\n",
       "      <th>1</th>\n",
       "      <td>Acura</td>\n",
       "      <td>Legend</td>\n",
       "      <td>Midsize</td>\n",
       "      <td>33.9</td>\n",
       "      <td>18</td>\n",
       "      <td>Driver &amp; Passenger</td>\n",
       "      <td>200</td>\n",
       "      <td>5</td>\n",
       "      <td>30.0</td>\n",
       "      <td>15.0</td>\n",
       "    </tr>\n",
       "    <tr>\n",
       "      <th>2</th>\n",
       "      <td>Audi</td>\n",
       "      <td>90</td>\n",
       "      <td>Compact</td>\n",
       "      <td>29.1</td>\n",
       "      <td>20</td>\n",
       "      <td>Driver only</td>\n",
       "      <td>172</td>\n",
       "      <td>5</td>\n",
       "      <td>28.0</td>\n",
       "      <td>14.0</td>\n",
       "    </tr>\n",
       "    <tr>\n",
       "      <th>3</th>\n",
       "      <td>Audi</td>\n",
       "      <td>100</td>\n",
       "      <td>Midsize</td>\n",
       "      <td>37.7</td>\n",
       "      <td>19</td>\n",
       "      <td>Driver &amp; Passenger</td>\n",
       "      <td>172</td>\n",
       "      <td>6</td>\n",
       "      <td>31.0</td>\n",
       "      <td>17.0</td>\n",
       "    </tr>\n",
       "    <tr>\n",
       "      <th>4</th>\n",
       "      <td>BMW</td>\n",
       "      <td>535i</td>\n",
       "      <td>Midsize</td>\n",
       "      <td>30.0</td>\n",
       "      <td>22</td>\n",
       "      <td>Driver only</td>\n",
       "      <td>208</td>\n",
       "      <td>4</td>\n",
       "      <td>27.0</td>\n",
       "      <td>13.0</td>\n",
       "    </tr>\n",
       "    <tr>\n",
       "      <th>...</th>\n",
       "      <td>...</td>\n",
       "      <td>...</td>\n",
       "      <td>...</td>\n",
       "      <td>...</td>\n",
       "      <td>...</td>\n",
       "      <td>...</td>\n",
       "      <td>...</td>\n",
       "      <td>...</td>\n",
       "      <td>...</td>\n",
       "      <td>...</td>\n",
       "    </tr>\n",
       "    <tr>\n",
       "      <th>88</th>\n",
       "      <td>Volkswagen</td>\n",
       "      <td>Eurovan</td>\n",
       "      <td>Van</td>\n",
       "      <td>19.7</td>\n",
       "      <td>17</td>\n",
       "      <td>Driver &amp; Passenger</td>\n",
       "      <td>109</td>\n",
       "      <td>7</td>\n",
       "      <td>34.0</td>\n",
       "      <td>NaN</td>\n",
       "    </tr>\n",
       "    <tr>\n",
       "      <th>89</th>\n",
       "      <td>Volkswagen</td>\n",
       "      <td>Passat</td>\n",
       "      <td>Compact</td>\n",
       "      <td>20.0</td>\n",
       "      <td>21</td>\n",
       "      <td>Driver &amp; Passenger</td>\n",
       "      <td>134</td>\n",
       "      <td>5</td>\n",
       "      <td>31.5</td>\n",
       "      <td>14.0</td>\n",
       "    </tr>\n",
       "    <tr>\n",
       "      <th>90</th>\n",
       "      <td>Volkswagen</td>\n",
       "      <td>Corrado</td>\n",
       "      <td>Sporty</td>\n",
       "      <td>23.3</td>\n",
       "      <td>18</td>\n",
       "      <td>Driver &amp; Passenger</td>\n",
       "      <td>178</td>\n",
       "      <td>4</td>\n",
       "      <td>26.0</td>\n",
       "      <td>15.0</td>\n",
       "    </tr>\n",
       "    <tr>\n",
       "      <th>91</th>\n",
       "      <td>Volvo</td>\n",
       "      <td>240</td>\n",
       "      <td>Compact</td>\n",
       "      <td>22.7</td>\n",
       "      <td>21</td>\n",
       "      <td>Driver only</td>\n",
       "      <td>114</td>\n",
       "      <td>5</td>\n",
       "      <td>29.5</td>\n",
       "      <td>14.0</td>\n",
       "    </tr>\n",
       "    <tr>\n",
       "      <th>92</th>\n",
       "      <td>Volvo</td>\n",
       "      <td>850</td>\n",
       "      <td>Midsize</td>\n",
       "      <td>26.7</td>\n",
       "      <td>20</td>\n",
       "      <td>Driver &amp; Passenger</td>\n",
       "      <td>168</td>\n",
       "      <td>5</td>\n",
       "      <td>30.0</td>\n",
       "      <td>15.0</td>\n",
       "    </tr>\n",
       "  </tbody>\n",
       "</table>\n",
       "<p>93 rows × 10 columns</p>\n",
       "</div>"
      ],
      "text/plain": [
       "   Manufacturer    Model     Type  Price  MPG.city             AirBags  \\\n",
       "0         Acura  Integra    Small   15.9        25         Driver only   \n",
       "1         Acura   Legend  Midsize   33.9        18  Driver & Passenger   \n",
       "2          Audi       90  Compact   29.1        20         Driver only   \n",
       "3          Audi      100  Midsize   37.7        19  Driver & Passenger   \n",
       "4           BMW     535i  Midsize   30.0        22         Driver only   \n",
       "..          ...      ...      ...    ...       ...                 ...   \n",
       "88   Volkswagen  Eurovan      Van   19.7        17  Driver & Passenger   \n",
       "89   Volkswagen   Passat  Compact   20.0        21  Driver & Passenger   \n",
       "90   Volkswagen  Corrado   Sporty   23.3        18  Driver & Passenger   \n",
       "91        Volvo      240  Compact   22.7        21         Driver only   \n",
       "92        Volvo      850  Midsize   26.7        20  Driver & Passenger   \n",
       "\n",
       "    Horsepower  Passengers  Rear.seat.room  Luggage.room  \n",
       "0          140           5            26.5          11.0  \n",
       "1          200           5            30.0          15.0  \n",
       "2          172           5            28.0          14.0  \n",
       "3          172           6            31.0          17.0  \n",
       "4          208           4            27.0          13.0  \n",
       "..         ...         ...             ...           ...  \n",
       "88         109           7            34.0           NaN  \n",
       "89         134           5            31.5          14.0  \n",
       "90         178           4            26.0          15.0  \n",
       "91         114           5            29.5          14.0  \n",
       "92         168           5            30.0          15.0  \n",
       "\n",
       "[93 rows x 10 columns]"
      ]
     },
     "execution_count": 41,
     "metadata": {},
     "output_type": "execute_result"
    }
   ],
   "source": [
    "dataset"
   ]
  },
  {
   "cell_type": "code",
   "execution_count": 42,
   "id": "0af80f65-368e-4931-9465-d727155d5fe2",
   "metadata": {},
   "outputs": [
    {
     "name": "stdout",
     "output_type": "stream",
     "text": [
      "<class 'pandas.core.frame.DataFrame'>\n",
      "RangeIndex: 93 entries, 0 to 92\n",
      "Data columns (total 10 columns):\n",
      " #   Column          Non-Null Count  Dtype  \n",
      "---  ------          --------------  -----  \n",
      " 0   Manufacturer    93 non-null     object \n",
      " 1   Model           93 non-null     object \n",
      " 2   Type            93 non-null     object \n",
      " 3   Price           93 non-null     float64\n",
      " 4   MPG.city        93 non-null     int64  \n",
      " 5   AirBags         79 non-null     object \n",
      " 6   Horsepower      93 non-null     int64  \n",
      " 7   Passengers      93 non-null     int64  \n",
      " 8   Rear.seat.room  91 non-null     float64\n",
      " 9   Luggage.room    82 non-null     float64\n",
      "dtypes: float64(3), int64(3), object(4)\n",
      "memory usage: 7.4+ KB\n"
     ]
    }
   ],
   "source": [
    "dataset.info()"
   ]
  },
  {
   "cell_type": "code",
   "execution_count": 43,
   "id": "80af01b4-87cc-4dc3-905d-f5066dc8f16f",
   "metadata": {},
   "outputs": [
    {
     "data": {
      "text/plain": [
       "<Axes: xlabel='Horsepower', ylabel='Count'>"
      ]
     },
     "execution_count": 43,
     "metadata": {},
     "output_type": "execute_result"
    },
    {
     "data": {
      "image/png": "[encoded data removed]",
      "text/plain": [
       "<Figure size 640x480 with 1 Axes>"
      ]
     },
     "metadata": {},
     "output_type": "display_data"
    }
   ],
   "source": [
    "sns.histplot(dataset, x=\"Horsepower\",kde=True)"
   ]
  },
  {
   "cell_type": "code",
   "execution_count": 44,
   "id": "3325727d-03d9-4363-b207-6409b6cac498",
   "metadata": {},
   "outputs": [
    {
     "data": {
      "image/png": "[encoded data removed]",
      "text/plain": [
       "<Figure size 640x480 with 1 Axes>"
      ]
     },
     "metadata": {},
     "output_type": "display_data"
    }
   ],
   "source": [
    "plt.boxplot(dataset['Horsepower'])\n",
    "plt.show()"
   ]
  },
  {
   "cell_type": "code",
   "execution_count": 45,
   "id": "f120280b-51a4-4686-b683-2e5deb397cd9",
   "metadata": {},
   "outputs": [],
   "source": [
    "q1 = dataset['Horsepower'].quantile(0.25)\n",
    "q3 = dataset['Horsepower'].quantile(0.75)\n"
   ]
  },
  {
   "cell_type": "code",
   "execution_count": 46,
   "id": "c9dc57b1-0fba-4f3d-8218-58478346f0fb",
   "metadata": {},
   "outputs": [],
   "source": [
    "IQR = q3-q1"
   ]
  },
  {
   "cell_type": "code",
   "execution_count": 47,
   "id": "6d59efda-2756-4c2a-a177-0e4e10291531",
   "metadata": {},
   "outputs": [],
   "source": [
    "upper = q3 + (1.5*IQR)"
   ]
  },
  {
   "cell_type": "code",
   "execution_count": 48,
   "id": "27bcdde4-5290-476d-bb74-fce4506fb93c",
   "metadata": {},
   "outputs": [
    {
     "data": {
      "text/html": [
       "<div>\n",
       "<style scoped>\n",
       "    .dataframe tbody tr th:only-of-type {\n",
       "        vertical-align: middle;\n",
       "    }\n",
       "\n",
       "    .dataframe tbody tr th {\n",
       "        vertical-align: top;\n",
       "    }\n",
       "\n",
       "    .dataframe thead th {\n",
       "        text-align: right;\n",
       "    }\n",
       "</style>\n",
       "<table border=\"1\" class=\"dataframe\">\n",
       "  <thead>\n",
       "    <tr style=\"text-align: right;\">\n",
       "      <th></th>\n",
       "      <th>Manufacturer</th>\n",
       "      <th>Model</th>\n",
       "      <th>Type</th>\n",
       "      <th>Price</th>\n",
       "      <th>MPG.city</th>\n",
       "      <th>AirBags</th>\n",
       "      <th>Horsepower</th>\n",
       "      <th>Passengers</th>\n",
       "      <th>Rear.seat.room</th>\n",
       "      <th>Luggage.room</th>\n",
       "    </tr>\n",
       "  </thead>\n",
       "  <tbody>\n",
       "    <tr>\n",
       "      <th>10</th>\n",
       "      <td>Cadillac</td>\n",
       "      <td>Seville</td>\n",
       "      <td>Midsize</td>\n",
       "      <td>40.1</td>\n",
       "      <td>16</td>\n",
       "      <td>Driver &amp; Passenger</td>\n",
       "      <td>295</td>\n",
       "      <td>5</td>\n",
       "      <td>31.0</td>\n",
       "      <td>14.0</td>\n",
       "    </tr>\n",
       "    <tr>\n",
       "      <th>18</th>\n",
       "      <td>Chevrolet</td>\n",
       "      <td>Corvette</td>\n",
       "      <td>Sporty</td>\n",
       "      <td>38.0</td>\n",
       "      <td>17</td>\n",
       "      <td>Driver only</td>\n",
       "      <td>300</td>\n",
       "      <td>2</td>\n",
       "      <td>NaN</td>\n",
       "      <td>NaN</td>\n",
       "    </tr>\n",
       "    <tr>\n",
       "      <th>27</th>\n",
       "      <td>Dodge</td>\n",
       "      <td>Stealth</td>\n",
       "      <td>Sporty</td>\n",
       "      <td>25.8</td>\n",
       "      <td>18</td>\n",
       "      <td>Driver only</td>\n",
       "      <td>300</td>\n",
       "      <td>4</td>\n",
       "      <td>20.0</td>\n",
       "      <td>11.0</td>\n",
       "    </tr>\n",
       "    <tr>\n",
       "      <th>47</th>\n",
       "      <td>Infiniti</td>\n",
       "      <td>Q45</td>\n",
       "      <td>Midsize</td>\n",
       "      <td>47.9</td>\n",
       "      <td>17</td>\n",
       "      <td>Driver only</td>\n",
       "      <td>278</td>\n",
       "      <td>5</td>\n",
       "      <td>29.0</td>\n",
       "      <td>15.0</td>\n",
       "    </tr>\n",
       "  </tbody>\n",
       "</table>\n",
       "</div>"
      ],
      "text/plain": [
       "   Manufacturer     Model     Type  Price  MPG.city             AirBags  \\\n",
       "10     Cadillac   Seville  Midsize   40.1        16  Driver & Passenger   \n",
       "18    Chevrolet  Corvette   Sporty   38.0        17         Driver only   \n",
       "27        Dodge   Stealth   Sporty   25.8        18         Driver only   \n",
       "47     Infiniti       Q45  Midsize   47.9        17         Driver only   \n",
       "\n",
       "    Horsepower  Passengers  Rear.seat.room  Luggage.room  \n",
       "10         295           5            31.0          14.0  \n",
       "18         300           2             NaN           NaN  \n",
       "27         300           4            20.0          11.0  \n",
       "47         278           5            29.0          15.0  "
      ]
     },
     "execution_count": 48,
     "metadata": {},
     "output_type": "execute_result"
    }
   ],
   "source": [
    "dataset[dataset['Horsepower']>upper]"
   ]
  },
  {
   "cell_type": "code",
   "execution_count": 49,
   "id": "a379029e-90b4-4b35-9954-0c702278e8d2",
   "metadata": {},
   "outputs": [
    {
     "data": {
      "text/html": [
       "<div>\n",
       "<style scoped>\n",
       "    .dataframe tbody tr th:only-of-type {\n",
       "        vertical-align: middle;\n",
       "    }\n",
       "\n",
       "    .dataframe tbody tr th {\n",
       "        vertical-align: top;\n",
       "    }\n",
       "\n",
       "    .dataframe thead th {\n",
       "        text-align: right;\n",
       "    }\n",
       "</style>\n",
       "<table border=\"1\" class=\"dataframe\">\n",
       "  <thead>\n",
       "    <tr style=\"text-align: right;\">\n",
       "      <th></th>\n",
       "      <th>Price</th>\n",
       "      <th>MPG.city</th>\n",
       "      <th>Horsepower</th>\n",
       "      <th>Passengers</th>\n",
       "      <th>Rear.seat.room</th>\n",
       "      <th>Luggage.room</th>\n",
       "    </tr>\n",
       "  </thead>\n",
       "  <tbody>\n",
       "    <tr>\n",
       "      <th>count</th>\n",
       "      <td>93.000000</td>\n",
       "      <td>93.000000</td>\n",
       "      <td>93.000000</td>\n",
       "      <td>93.000000</td>\n",
       "      <td>91.000000</td>\n",
       "      <td>82.000000</td>\n",
       "    </tr>\n",
       "    <tr>\n",
       "      <th>mean</th>\n",
       "      <td>19.509677</td>\n",
       "      <td>22.365591</td>\n",
       "      <td>143.827957</td>\n",
       "      <td>5.086022</td>\n",
       "      <td>27.829670</td>\n",
       "      <td>13.890244</td>\n",
       "    </tr>\n",
       "    <tr>\n",
       "      <th>std</th>\n",
       "      <td>9.659430</td>\n",
       "      <td>5.619812</td>\n",
       "      <td>52.374410</td>\n",
       "      <td>1.038979</td>\n",
       "      <td>2.989072</td>\n",
       "      <td>2.997967</td>\n",
       "    </tr>\n",
       "    <tr>\n",
       "      <th>min</th>\n",
       "      <td>7.400000</td>\n",
       "      <td>15.000000</td>\n",
       "      <td>55.000000</td>\n",
       "      <td>2.000000</td>\n",
       "      <td>19.000000</td>\n",
       "      <td>6.000000</td>\n",
       "    </tr>\n",
       "    <tr>\n",
       "      <th>25%</th>\n",
       "      <td>12.200000</td>\n",
       "      <td>18.000000</td>\n",
       "      <td>103.000000</td>\n",
       "      <td>4.000000</td>\n",
       "      <td>26.000000</td>\n",
       "      <td>12.000000</td>\n",
       "    </tr>\n",
       "    <tr>\n",
       "      <th>50%</th>\n",
       "      <td>17.700000</td>\n",
       "      <td>21.000000</td>\n",
       "      <td>140.000000</td>\n",
       "      <td>5.000000</td>\n",
       "      <td>27.500000</td>\n",
       "      <td>14.000000</td>\n",
       "    </tr>\n",
       "    <tr>\n",
       "      <th>75%</th>\n",
       "      <td>23.300000</td>\n",
       "      <td>25.000000</td>\n",
       "      <td>170.000000</td>\n",
       "      <td>6.000000</td>\n",
       "      <td>30.000000</td>\n",
       "      <td>15.000000</td>\n",
       "    </tr>\n",
       "    <tr>\n",
       "      <th>max</th>\n",
       "      <td>61.900000</td>\n",
       "      <td>46.000000</td>\n",
       "      <td>300.000000</td>\n",
       "      <td>8.000000</td>\n",
       "      <td>36.000000</td>\n",
       "      <td>22.000000</td>\n",
       "    </tr>\n",
       "  </tbody>\n",
       "</table>\n",
       "</div>"
      ],
      "text/plain": [
       "           Price   MPG.city  Horsepower  Passengers  Rear.seat.room  \\\n",
       "count  93.000000  93.000000   93.000000   93.000000       91.000000   \n",
       "mean   19.509677  22.365591  143.827957    5.086022       27.829670   \n",
       "std     9.659430   5.619812   52.374410    1.038979        2.989072   \n",
       "min     7.400000  15.000000   55.000000    2.000000       19.000000   \n",
       "25%    12.200000  18.000000  103.000000    4.000000       26.000000   \n",
       "50%    17.700000  21.000000  140.000000    5.000000       27.500000   \n",
       "75%    23.300000  25.000000  170.000000    6.000000       30.000000   \n",
       "max    61.900000  46.000000  300.000000    8.000000       36.000000   \n",
       "\n",
       "       Luggage.room  \n",
       "count     82.000000  \n",
       "mean      13.890244  \n",
       "std        2.997967  \n",
       "min        6.000000  \n",
       "25%       12.000000  \n",
       "50%       14.000000  \n",
       "75%       15.000000  \n",
       "max       22.000000  "
      ]
     },
     "execution_count": 49,
     "metadata": {},
     "output_type": "execute_result"
    }
   ],
   "source": [
    "dataset.describe()"
   ]
  },
  {
   "cell_type": "code",
   "execution_count": 50,
   "id": "f26860c3-0c71-4606-b7d1-3129968294b2",
   "metadata": {},
   "outputs": [
    {
     "data": {
      "text/plain": [
       "<Axes: xlabel='MPG.city', ylabel='Count'>"
      ]
     },
     "execution_count": 50,
     "metadata": {},
     "output_type": "execute_result"
    },
    {
     "data": {
      "image/png": "[encoded data removed]",
      "text/plain": [
       "<Figure size 640x480 with 1 Axes>"
      ]
     },
     "metadata": {},
     "output_type": "display_data"
    }
   ],
   "source": [
    "sns.histplot(dataset, x=\"MPG.city\",kde=True)"
   ]
  },
  {
   "cell_type": "code",
   "execution_count": 64,
   "id": "ee58c9e6-d89b-4270-b4d6-8a85d7969571",
   "metadata": {},
   "outputs": [
    {
     "data": {
      "text/html": [
       "<div>\n",
       "<style scoped>\n",
       "    .dataframe tbody tr th:only-of-type {\n",
       "        vertical-align: middle;\n",
       "    }\n",
       "\n",
       "    .dataframe tbody tr th {\n",
       "        vertical-align: top;\n",
       "    }\n",
       "\n",
       "    .dataframe thead th {\n",
       "        text-align: right;\n",
       "    }\n",
       "</style>\n",
       "<table border=\"1\" class=\"dataframe\">\n",
       "  <thead>\n",
       "    <tr style=\"text-align: right;\">\n",
       "      <th></th>\n",
       "      <th>Sepal_Length</th>\n",
       "      <th>Sepal_Width</th>\n",
       "      <th>Petal_Length</th>\n",
       "      <th>Petal_Width</th>\n",
       "      <th>Species</th>\n",
       "    </tr>\n",
       "  </thead>\n",
       "  <tbody>\n",
       "    <tr>\n",
       "      <th>0</th>\n",
       "      <td>5.1</td>\n",
       "      <td>3.5</td>\n",
       "      <td>1.4</td>\n",
       "      <td>0.2</td>\n",
       "      <td>Setosa</td>\n",
       "    </tr>\n",
       "    <tr>\n",
       "      <th>1</th>\n",
       "      <td>4.9</td>\n",
       "      <td>3.0</td>\n",
       "      <td>1.4</td>\n",
       "      <td>0.2</td>\n",
       "      <td>Setosa</td>\n",
       "    </tr>\n",
       "    <tr>\n",
       "      <th>2</th>\n",
       "      <td>4.7</td>\n",
       "      <td>3.2</td>\n",
       "      <td>1.3</td>\n",
       "      <td>0.2</td>\n",
       "      <td>Setosa</td>\n",
       "    </tr>\n",
       "    <tr>\n",
       "      <th>3</th>\n",
       "      <td>4.6</td>\n",
       "      <td>3.1</td>\n",
       "      <td>1.5</td>\n",
       "      <td>0.2</td>\n",
       "      <td>Setosa</td>\n",
       "    </tr>\n",
       "    <tr>\n",
       "      <th>4</th>\n",
       "      <td>5.0</td>\n",
       "      <td>3.6</td>\n",
       "      <td>1.4</td>\n",
       "      <td>0.2</td>\n",
       "      <td>Setosa</td>\n",
       "    </tr>\n",
       "    <tr>\n",
       "      <th>...</th>\n",
       "      <td>...</td>\n",
       "      <td>...</td>\n",
       "      <td>...</td>\n",
       "      <td>...</td>\n",
       "      <td>...</td>\n",
       "    </tr>\n",
       "    <tr>\n",
       "      <th>145</th>\n",
       "      <td>6.7</td>\n",
       "      <td>3.0</td>\n",
       "      <td>5.2</td>\n",
       "      <td>2.3</td>\n",
       "      <td>Virginica</td>\n",
       "    </tr>\n",
       "    <tr>\n",
       "      <th>146</th>\n",
       "      <td>6.3</td>\n",
       "      <td>2.5</td>\n",
       "      <td>5.0</td>\n",
       "      <td>1.9</td>\n",
       "      <td>Virginica</td>\n",
       "    </tr>\n",
       "    <tr>\n",
       "      <th>147</th>\n",
       "      <td>6.5</td>\n",
       "      <td>3.0</td>\n",
       "      <td>5.2</td>\n",
       "      <td>2.0</td>\n",
       "      <td>Virginica</td>\n",
       "    </tr>\n",
       "    <tr>\n",
       "      <th>148</th>\n",
       "      <td>6.2</td>\n",
       "      <td>3.4</td>\n",
       "      <td>5.4</td>\n",
       "      <td>2.3</td>\n",
       "      <td>Virginica</td>\n",
       "    </tr>\n",
       "    <tr>\n",
       "      <th>149</th>\n",
       "      <td>5.9</td>\n",
       "      <td>3.0</td>\n",
       "      <td>5.1</td>\n",
       "      <td>1.8</td>\n",
       "      <td>Virginica</td>\n",
       "    </tr>\n",
       "  </tbody>\n",
       "</table>\n",
       "<p>150 rows × 5 columns</p>\n",
       "</div>"
      ],
      "text/plain": [
       "     Sepal_Length  Sepal_Width  Petal_Length  Petal_Width    Species\n",
       "0             5.1          3.5           1.4          0.2     Setosa\n",
       "1             4.9          3.0           1.4          0.2     Setosa\n",
       "2             4.7          3.2           1.3          0.2     Setosa\n",
       "3             4.6          3.1           1.5          0.2     Setosa\n",
       "4             5.0          3.6           1.4          0.2     Setosa\n",
       "..            ...          ...           ...          ...        ...\n",
       "145           6.7          3.0           5.2          2.3  Virginica\n",
       "146           6.3          2.5           5.0          1.9  Virginica\n",
       "147           6.5          3.0           5.2          2.0  Virginica\n",
       "148           6.2          3.4           5.4          2.3  Virginica\n",
       "149           5.9          3.0           5.1          1.8  Virginica\n",
       "\n",
       "[150 rows x 5 columns]"
      ]
     },
     "execution_count": 64,
     "metadata": {},
     "output_type": "execute_result"
    }
   ],
   "source": [
    "dataset = pd.read_csv(\"C:/Users/ADMIN/Desktop/FBS/Data Science/Data sets/Iris.csv\")\n",
    "dataset"
   ]
  },
  {
   "cell_type": "code",
   "execution_count": 65,
   "id": "281cbb14-1c42-4f24-99e3-780e509cb4e6",
   "metadata": {},
   "outputs": [
    {
     "data": {
      "text/html": [
       "<div>\n",
       "<style scoped>\n",
       "    .dataframe tbody tr th:only-of-type {\n",
       "        vertical-align: middle;\n",
       "    }\n",
       "\n",
       "    .dataframe tbody tr th {\n",
       "        vertical-align: top;\n",
       "    }\n",
       "\n",
       "    .dataframe thead th {\n",
       "        text-align: right;\n",
       "    }\n",
       "</style>\n",
       "<table border=\"1\" class=\"dataframe\">\n",
       "  <thead>\n",
       "    <tr style=\"text-align: right;\">\n",
       "      <th></th>\n",
       "      <th>Sepal_Length</th>\n",
       "      <th>Sepal_Width</th>\n",
       "      <th>Petal_Length</th>\n",
       "      <th>Petal_Width</th>\n",
       "      <th>Species</th>\n",
       "    </tr>\n",
       "  </thead>\n",
       "  <tbody>\n",
       "    <tr>\n",
       "      <th>0</th>\n",
       "      <td>5.1</td>\n",
       "      <td>3.5</td>\n",
       "      <td>1.4</td>\n",
       "      <td>0.2</td>\n",
       "      <td>Setosa</td>\n",
       "    </tr>\n",
       "    <tr>\n",
       "      <th>1</th>\n",
       "      <td>4.9</td>\n",
       "      <td>3.0</td>\n",
       "      <td>1.4</td>\n",
       "      <td>0.2</td>\n",
       "      <td>Setosa</td>\n",
       "    </tr>\n",
       "    <tr>\n",
       "      <th>2</th>\n",
       "      <td>4.7</td>\n",
       "      <td>3.2</td>\n",
       "      <td>1.3</td>\n",
       "      <td>0.2</td>\n",
       "      <td>Setosa</td>\n",
       "    </tr>\n",
       "    <tr>\n",
       "      <th>3</th>\n",
       "      <td>4.6</td>\n",
       "      <td>3.1</td>\n",
       "      <td>1.5</td>\n",
       "      <td>0.2</td>\n",
       "      <td>Setosa</td>\n",
       "    </tr>\n",
       "    <tr>\n",
       "      <th>4</th>\n",
       "      <td>5.0</td>\n",
       "      <td>3.6</td>\n",
       "      <td>1.4</td>\n",
       "      <td>0.2</td>\n",
       "      <td>Setosa</td>\n",
       "    </tr>\n",
       "  </tbody>\n",
       "</table>\n",
       "</div>"
      ],
      "text/plain": [
       "   Sepal_Length  Sepal_Width  Petal_Length  Petal_Width Species\n",
       "0           5.1          3.5           1.4          0.2  Setosa\n",
       "1           4.9          3.0           1.4          0.2  Setosa\n",
       "2           4.7          3.2           1.3          0.2  Setosa\n",
       "3           4.6          3.1           1.5          0.2  Setosa\n",
       "4           5.0          3.6           1.4          0.2  Setosa"
      ]
     },
     "execution_count": 65,
     "metadata": {},
     "output_type": "execute_result"
    }
   ],
   "source": [
    "dataset.head()\n"
   ]
  },
  {
   "cell_type": "code",
   "execution_count": 66,
   "id": "6c3cdc65-4f4c-4aea-b64b-cbbb95bed8b8",
   "metadata": {},
   "outputs": [
    {
     "data": {
      "text/plain": [
       "<Axes: xlabel='Petal_Length', ylabel='Count'>"
      ]
     },
     "execution_count": 66,
     "metadata": {},
     "output_type": "execute_result"
    },
    {
     "data": {
      "image/png": "[encoded data removed]",
      "text/plain": [
       "<Figure size 640x480 with 1 Axes>"
      ]
     },
     "metadata": {},
     "output_type": "display_data"
    }
   ],
   "source": [
    "sns.histplot(dataset, x=\"Petal_Length\",kde=True)"
   ]
  },
  {
   "cell_type": "code",
   "execution_count": 67,
   "id": "4f583007-6a65-43d3-b4ee-0ad975133656",
   "metadata": {},
   "outputs": [
    {
     "data": {
      "text/plain": [
       "{'whiskers': [<matplotlib.lines.Line2D at 0x1babc496000>,\n",
       "  <matplotlib.lines.Line2D at 0x1babc499850>],\n",
       " 'caps': [<matplotlib.lines.Line2D at 0x1babc499b80>,\n",
       "  <matplotlib.lines.Line2D at 0x1babc499eb0>],\n",
       " 'boxes': [<matplotlib.lines.Line2D at 0x1babc4992b0>],\n",
       " 'medians': [<matplotlib.lines.Line2D at 0x1babc49a180>],\n",
       " 'fliers': [<matplotlib.lines.Line2D at 0x1babc49a480>],\n",
       " 'means': []}"
      ]
     },
     "execution_count": 67,
     "metadata": {},
     "output_type": "execute_result"
    },
    {
     "data": {
      "image/png": "[encoded data removed]",
      "text/plain": [
       "<Figure size 640x480 with 1 Axes>"
      ]
     },
     "metadata": {},
     "output_type": "display_data"
    }
   ],
   "source": [
    "plt.boxplot(dataset['Petal_Length'])"
   ]
  },
  {
   "cell_type": "markdown",
   "id": "71df3eaa-717b-4253-ab90-c16b4876a9ad",
   "metadata": {},
   "source": [
    "## Corelation Matrix"
   ]
  },
  {
   "cell_type": "code",
   "execution_count": 68,
   "id": "5e3a7ac3-8565-4dd4-834d-55dea4fff2c4",
   "metadata": {},
   "outputs": [],
   "source": [
    "dataset1 = dataset.drop('Species', axis=1)"
   ]
  },
  {
   "cell_type": "code",
   "execution_count": 69,
   "id": "965ffad2-603e-4892-a6c2-5de34de286c2",
   "metadata": {},
   "outputs": [
    {
     "data": {
      "text/html": [
       "<div>\n",
       "<style scoped>\n",
       "    .dataframe tbody tr th:only-of-type {\n",
       "        vertical-align: middle;\n",
       "    }\n",
       "\n",
       "    .dataframe tbody tr th {\n",
       "        vertical-align: top;\n",
       "    }\n",
       "\n",
       "    .dataframe thead th {\n",
       "        text-align: right;\n",
       "    }\n",
       "</style>\n",
       "<table border=\"1\" class=\"dataframe\">\n",
       "  <thead>\n",
       "    <tr style=\"text-align: right;\">\n",
       "      <th></th>\n",
       "      <th>Sepal_Length</th>\n",
       "      <th>Sepal_Width</th>\n",
       "      <th>Petal_Length</th>\n",
       "      <th>Petal_Width</th>\n",
       "    </tr>\n",
       "  </thead>\n",
       "  <tbody>\n",
       "    <tr>\n",
       "      <th>0</th>\n",
       "      <td>5.1</td>\n",
       "      <td>3.5</td>\n",
       "      <td>1.4</td>\n",
       "      <td>0.2</td>\n",
       "    </tr>\n",
       "    <tr>\n",
       "      <th>1</th>\n",
       "      <td>4.9</td>\n",
       "      <td>3.0</td>\n",
       "      <td>1.4</td>\n",
       "      <td>0.2</td>\n",
       "    </tr>\n",
       "    <tr>\n",
       "      <th>2</th>\n",
       "      <td>4.7</td>\n",
       "      <td>3.2</td>\n",
       "      <td>1.3</td>\n",
       "      <td>0.2</td>\n",
       "    </tr>\n",
       "    <tr>\n",
       "      <th>3</th>\n",
       "      <td>4.6</td>\n",
       "      <td>3.1</td>\n",
       "      <td>1.5</td>\n",
       "      <td>0.2</td>\n",
       "    </tr>\n",
       "    <tr>\n",
       "      <th>4</th>\n",
       "      <td>5.0</td>\n",
       "      <td>3.6</td>\n",
       "      <td>1.4</td>\n",
       "      <td>0.2</td>\n",
       "    </tr>\n",
       "  </tbody>\n",
       "</table>\n",
       "</div>"
      ],
      "text/plain": [
       "   Sepal_Length  Sepal_Width  Petal_Length  Petal_Width\n",
       "0           5.1          3.5           1.4          0.2\n",
       "1           4.9          3.0           1.4          0.2\n",
       "2           4.7          3.2           1.3          0.2\n",
       "3           4.6          3.1           1.5          0.2\n",
       "4           5.0          3.6           1.4          0.2"
      ]
     },
     "execution_count": 69,
     "metadata": {},
     "output_type": "execute_result"
    }
   ],
   "source": [
    "dataset1.head()"
   ]
  },
  {
   "cell_type": "code",
   "execution_count": 70,
   "id": "14c6de33-8efb-409e-b3aa-378320c2d21a",
   "metadata": {},
   "outputs": [
    {
     "data": {
      "text/html": [
       "<div>\n",
       "<style scoped>\n",
       "    .dataframe tbody tr th:only-of-type {\n",
       "        vertical-align: middle;\n",
       "    }\n",
       "\n",
       "    .dataframe tbody tr th {\n",
       "        vertical-align: top;\n",
       "    }\n",
       "\n",
       "    .dataframe thead th {\n",
       "        text-align: right;\n",
       "    }\n",
       "</style>\n",
       "<table border=\"1\" class=\"dataframe\">\n",
       "  <thead>\n",
       "    <tr style=\"text-align: right;\">\n",
       "      <th></th>\n",
       "      <th>Sepal_Length</th>\n",
       "      <th>Sepal_Width</th>\n",
       "    </tr>\n",
       "  </thead>\n",
       "  <tbody>\n",
       "    <tr>\n",
       "      <th>Sepal_Length</th>\n",
       "      <td>1.000000</td>\n",
       "      <td>-0.109369</td>\n",
       "    </tr>\n",
       "    <tr>\n",
       "      <th>Sepal_Width</th>\n",
       "      <td>-0.109369</td>\n",
       "      <td>1.000000</td>\n",
       "    </tr>\n",
       "  </tbody>\n",
       "</table>\n",
       "</div>"
      ],
      "text/plain": [
       "              Sepal_Length  Sepal_Width\n",
       "Sepal_Length      1.000000    -0.109369\n",
       "Sepal_Width      -0.109369     1.000000"
      ]
     },
     "execution_count": 70,
     "metadata": {},
     "output_type": "execute_result"
    }
   ],
   "source": [
    "dataset[['Sepal_Length','Sepal_Width']].corr()"
   ]
  },
  {
   "cell_type": "code",
   "execution_count": 71,
   "id": "c6c7cf02-9430-42eb-834f-e19fccd727c4",
   "metadata": {},
   "outputs": [
    {
     "data": {
      "text/html": [
       "<div>\n",
       "<style scoped>\n",
       "    .dataframe tbody tr th:only-of-type {\n",
       "        vertical-align: middle;\n",
       "    }\n",
       "\n",
       "    .dataframe tbody tr th {\n",
       "        vertical-align: top;\n",
       "    }\n",
       "\n",
       "    .dataframe thead th {\n",
       "        text-align: right;\n",
       "    }\n",
       "</style>\n",
       "<table border=\"1\" class=\"dataframe\">\n",
       "  <thead>\n",
       "    <tr style=\"text-align: right;\">\n",
       "      <th></th>\n",
       "      <th>Sepal_Length</th>\n",
       "      <th>Sepal_Width</th>\n",
       "    </tr>\n",
       "  </thead>\n",
       "  <tbody>\n",
       "    <tr>\n",
       "      <th>Sepal_Length</th>\n",
       "      <td>0.685694</td>\n",
       "      <td>-0.039268</td>\n",
       "    </tr>\n",
       "    <tr>\n",
       "      <th>Sepal_Width</th>\n",
       "      <td>-0.039268</td>\n",
       "      <td>0.188004</td>\n",
       "    </tr>\n",
       "  </tbody>\n",
       "</table>\n",
       "</div>"
      ],
      "text/plain": [
       "              Sepal_Length  Sepal_Width\n",
       "Sepal_Length      0.685694    -0.039268\n",
       "Sepal_Width      -0.039268     0.188004"
      ]
     },
     "execution_count": 71,
     "metadata": {},
     "output_type": "execute_result"
    }
   ],
   "source": [
    "dataset[['Sepal_Length','Sepal_Width']].cov()"
   ]
  },
  {
   "cell_type": "code",
   "execution_count": 72,
   "id": "6ac8b2aa-eab1-445c-bf10-3675264980e8",
   "metadata": {},
   "outputs": [],
   "source": [
    "correlation =dataset1.corr()"
   ]
  },
  {
   "cell_type": "code",
   "execution_count": 73,
   "id": "9dd38739-ac01-45c9-8ac3-124453edb8a9",
   "metadata": {},
   "outputs": [
    {
     "data": {
      "text/plain": [
       "<Axes: >"
      ]
     },
     "execution_count": 73,
     "metadata": {},
     "output_type": "execute_result"
    },
    {
     "data": {
      "image/png": "[encoded data removed]",
      "text/plain": [
       "<Figure size 640x480 with 2 Axes>"
      ]
     },
     "metadata": {},
     "output_type": "display_data"
    }
   ],
   "source": [
    "sns.heatmap(correlation,annot=True)\n",
    "# sns.heatmap(dataset1.corr())"
   ]
  },
  {
   "cell_type": "code",
   "execution_count": null,
   "id": "4ee1171f-eb86-4fdc-a292-7ad4df0df59e",
   "metadata": {},
   "outputs": [],
   "source": []
  }
 ],
 "metadata": {
  "kernelspec": {
   "display_name": "Python 3 (ipykernel)",
   "language": "python",
   "name": "python3"
  },
  "language_info": {
   "codemirror_mode": {
    "name": "ipython",
    "version": 3
   },
   "file_extension": ".py",
   "mimetype": "text/x-python",
   "name": "python",
   "nbconvert_exporter": "python",
   "pygments_lexer": "ipython3",
   "version": "3.12.4"
  }
 },
 "nbformat": 4,
 "nbformat_minor": 5
}
